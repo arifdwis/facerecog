{
 "cells": [
  {
   "cell_type": "code",
   "execution_count": 1,
   "id": "ddba3a49-454a-445a-8fbd-aba6333dadf5",
   "metadata": {},
   "outputs": [],
   "source": [
    "import cv2\n",
    "import csv\n",
    "import os\n",
    "import face_recognition\n",
    "import datetime"
   ]
  },
  {
   "cell_type": "code",
   "execution_count": null,
   "id": "ffecc7b0-1b83-46bf-8288-a284ebccd48b",
   "metadata": {},
   "outputs": [],
   "source": [
    "# Load known faces & names from folder 'datawajah'"
   ]
  },
  {
   "cell_type": "code",
   "execution_count": 3,
   "id": "4d08386a-9b9d-4a40-9ee8-c932fbfd383b",
   "metadata": {},
   "outputs": [],
   "source": [
    "known_faces = []\n",
    "known_names = []"
   ]
  },
  {
   "cell_type": "code",
   "execution_count": 9,
   "id": "03d867b7-a7d1-4b3e-a043-0f230954b920",
   "metadata": {},
   "outputs": [],
   "source": [
    "for filename in os.listdir('datawajah'):\n",
    "    if not filename.lower().endswith(('.png', '.jpg', '.jpeg')):\n",
    "        continue\n",
    "\n",
    "    image_path = os.path.join('datawajah', filename)\n",
    "    image = face_recognition.load_image_file(image_path)\n",
    "    \n",
    "    # Check if there's at least one face encoding\n",
    "    encodings = face_recognition.face_encodings(image)\n",
    "    if encodings:\n",
    "        known_faces.append(encodings[0])\n",
    "        known_names.append(os.path.splitext(filename)[0])"
   ]
  },
  {
   "cell_type": "code",
   "execution_count": 13,
   "id": "f98c67b0-96c9-4b7f-b847-fb7bc8d9fc68",
   "metadata": {},
   "outputs": [],
   "source": [
    "video_capture = cv2.VideoCapture(1)"
   ]
  },
  {
   "cell_type": "code",
   "execution_count": 15,
   "id": "ad4ef80c-ac63-4f67-a067-f0dc4a5e73e3",
   "metadata": {},
   "outputs": [],
   "source": [
    "attendance_marked = False"
   ]
  },
  {
   "cell_type": "code",
   "execution_count": 36,
   "id": "ca54f3fa-cc1d-4264-b1a6-6bd963498a0f",
   "metadata": {},
   "outputs": [
    {
     "ename": "TypeError",
     "evalue": "'NoneType' object is not subscriptable",
     "output_type": "error",
     "traceback": [
      "\u001b[1;31m---------------------------------------------------------------------------\u001b[0m",
      "\u001b[1;31mTypeError\u001b[0m                                 Traceback (most recent call last)",
      "Cell \u001b[1;32mIn[36], line 3\u001b[0m\n\u001b[0;32m      1\u001b[0m \u001b[38;5;28;01mwhile\u001b[39;00m \u001b[38;5;28;01mTrue\u001b[39;00m:\n\u001b[0;32m      2\u001b[0m     ret, frame \u001b[38;5;241m=\u001b[39m video_capture\u001b[38;5;241m.\u001b[39mread()\n\u001b[1;32m----> 3\u001b[0m     rgb_frame \u001b[38;5;241m=\u001b[39m frame[:, :, ::\u001b[38;5;241m-\u001b[39m\u001b[38;5;241m1\u001b[39m]\n\u001b[0;32m      4\u001b[0m     face_locations \u001b[38;5;241m=\u001b[39m face_recognition\u001b[38;5;241m.\u001b[39mface_locations(rgb_frame)\n\u001b[0;32m      5\u001b[0m     face_encodings \u001b[38;5;241m=\u001b[39m face_recognition\u001b[38;5;241m.\u001b[39mface_encodings(rgb_frame, face_locations)\n",
      "\u001b[1;31mTypeError\u001b[0m: 'NoneType' object is not subscriptable"
     ]
    }
   ],
   "source": [
    "while True:\n",
    "    ret, frame = video_capture.read()\n",
    "    rgb_frame = frame[:, :, ::-1]\n",
    "    face_locations = face_recognition.face_locations(rgb_frame)\n",
    "    face_encodings = face_recognition.face_encodings(rgb_frame, face_locations)\n",
    "    recognized_names = []\n",
    "\n",
    "    for face_encoding in face_encodings:\n",
    "        matches = face_recognition.compare_faces(known_faces, face_encoding)\n",
    "        name = 'Unknown'\n",
    "\n",
    "        if True in matches:\n",
    "            matched_indices = [i for i, match in enumerate(matches) if match]\n",
    "            for index in matche_indices:\n",
    "                name = known_names[index]\n",
    "                recognized_names.append(name)\n",
    "\n",
    "    if len(recognized_names) > 0:\n",
    "        current_time = datetime.datetime.now().strftime('%H:%M:%S')\n",
    "        with open('attendance.csv', 'r') as file:\n",
    "            reader = csv.reader(file)\n",
    "            existing_names = set(row[0] for row in reader)\n",
    "        with open('attendance.csv', 'a', newline='') as file:\n",
    "            writer = csv.writer(file)\n",
    "            for name in recognized_names:\n",
    "                if name not in existing_names:\n",
    "                    writer.writerow([name, current_time])\n",
    "                    existing_names.add(name)\n",
    "\n",
    "        attendance_marked = True\n",
    "        \n",
    "    cv2.imshow('Camera', frame)\n",
    "    if cv2.waitKey(1) & 0xFF == ord('q') or attendance_marked:\n",
    "        break"
   ]
  },
  {
   "cell_type": "code",
   "execution_count": null,
   "id": "d6b0deb5-175a-4cff-b264-de64f5df0d7a",
   "metadata": {},
   "outputs": [],
   "source": [
    "video_capture.release()\n",
    "cv2.destroyAllWindows()"
   ]
  },
  {
   "cell_type": "code",
   "execution_count": null,
   "id": "f20c9bed-4416-42ca-8391-ad02d3a9412e",
   "metadata": {},
   "outputs": [],
   "source": []
  }
 ],
 "metadata": {
  "kernelspec": {
   "display_name": "Python 3 (ipykernel)",
   "language": "python",
   "name": "python3"
  },
  "language_info": {
   "codemirror_mode": {
    "name": "ipython",
    "version": 3
   },
   "file_extension": ".py",
   "mimetype": "text/x-python",
   "name": "python",
   "nbconvert_exporter": "python",
   "pygments_lexer": "ipython3",
   "version": "3.12.4"
  }
 },
 "nbformat": 4,
 "nbformat_minor": 5
}
